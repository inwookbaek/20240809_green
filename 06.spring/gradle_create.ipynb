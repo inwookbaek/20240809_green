{
 "cells": [
  {
   "cell_type": "markdown",
   "id": "d63b5dd5",
   "metadata": {},
   "source": [
    "# Spring Boot 3.1.x - Spring Security 필터 공부 프로젝트\n",
    "\n",
    "이 프로젝트는 Spring Security의 주요 필터를 커스텀 필터로 구현하고, 실행해 보는 예제입니다.  \n",
    "아래 코드를 따라 프로젝트를 생성하고 실행할 수 있습니다."
   ]
  },
  {
   "cell_type": "code",
   "execution_count": 1,
   "id": "cc55dc43",
   "metadata": {},
   "outputs": [
    {
     "name": "stdout",
     "output_type": "stream",
     "text": [
      "build.gradle 파일이 생성되었습니다.\n"
     ]
    }
   ],
   "source": [
    "# build.gradle 파일 내용\n",
    "build_gradle = \"\"\"\n",
    "plugins {\n",
    "    id 'java'\n",
    "    id 'org.springframework.boot' version '3.1.0'\n",
    "    id 'io.spring.dependency-management' version '1.1.0'\n",
    "}\n",
    "\n",
    "group = 'com.example'\n",
    "version = '0.0.1-SNAPSHOT'\n",
    "sourceCompatibility = '17'\n",
    "\n",
    "repositories {\n",
    "    mavenCentral()\n",
    "}\n",
    "\n",
    "dependencies {\n",
    "    implementation 'org.springframework.boot:spring-boot-starter-security'\n",
    "    implementation 'org.springframework.boot:spring-boot-starter-web'\n",
    "    testImplementation 'org.springframework.boot:spring-boot-starter-test'\n",
    "    testImplementation 'org.springframework.security:spring-security-test'\n",
    "}\n",
    "\n",
    "tasks.named('test') {\n",
    "    useJUnitPlatform()\n",
    "}\n",
    "\"\"\"\n",
    "\n",
    "# 파일로 저장\n",
    "with open(\"build.gradle\", \"w\") as file:\n",
    "    file.write(build_gradle)\n",
    "\n",
    "print(\"build.gradle 파일이 생성되었습니다.\")"
   ]
  },
  {
   "cell_type": "code",
   "execution_count": 6,
   "id": "68931f38",
   "metadata": {},
   "outputs": [
    {
     "ename": "FileNotFoundError",
     "evalue": "[Errno 2] No such file or directory: 'src/main/resources/application.properties'",
     "output_type": "error",
     "traceback": [
      "\u001b[1;31m---------------------------------------------------------------------------\u001b[0m",
      "\u001b[1;31mFileNotFoundError\u001b[0m                         Traceback (most recent call last)",
      "Input \u001b[1;32mIn [6]\u001b[0m, in \u001b[0;36m<cell line: 12>\u001b[1;34m()\u001b[0m\n\u001b[0;32m      2\u001b[0m application_properties \u001b[38;5;241m=\u001b[39m \u001b[38;5;124m\"\"\"\u001b[39m\n\u001b[0;32m      3\u001b[0m \u001b[38;5;124m# 서버 포트 설정\u001b[39m\n\u001b[0;32m      4\u001b[0m \u001b[38;5;124mserver.port=8080\u001b[39m\n\u001b[1;32m   (...)\u001b[0m\n\u001b[0;32m      8\u001b[0m \u001b[38;5;124mspring.security.user.password=password\u001b[39m\n\u001b[0;32m      9\u001b[0m \u001b[38;5;124m\"\"\"\u001b[39m\n\u001b[0;32m     11\u001b[0m \u001b[38;5;66;03m# 파일로 저장\u001b[39;00m\n\u001b[1;32m---> 12\u001b[0m \u001b[38;5;28;01mwith\u001b[39;00m \u001b[38;5;28;43mopen\u001b[39;49m\u001b[43m(\u001b[49m\u001b[38;5;124;43m\"\u001b[39;49m\u001b[38;5;124;43msrc/main/resources/application.properties\u001b[39;49m\u001b[38;5;124;43m\"\u001b[39;49m\u001b[43m,\u001b[49m\u001b[43m \u001b[49m\u001b[38;5;124;43m\"\u001b[39;49m\u001b[38;5;124;43mw\u001b[39;49m\u001b[38;5;124;43m\"\u001b[39;49m\u001b[43m)\u001b[49m \u001b[38;5;28;01mas\u001b[39;00m file:\n\u001b[0;32m     13\u001b[0m     file\u001b[38;5;241m.\u001b[39mwrite(application_properties)\n\u001b[0;32m     15\u001b[0m \u001b[38;5;28mprint\u001b[39m(\u001b[38;5;124m\"\u001b[39m\u001b[38;5;124mapplication.properties 파일이 생성되었습니다.\u001b[39m\u001b[38;5;124m\"\u001b[39m)\n",
      "\u001b[1;31mFileNotFoundError\u001b[0m: [Errno 2] No such file or directory: 'src/main/resources/application.properties'"
     ]
    }
   ],
   "source": [
    "# application.properties 파일 내용\n",
    "application_properties = \"\"\"\n",
    "# 서버 포트 설정\n",
    "server.port=8080\n",
    "\n",
    "# Spring Security 기본 설정\n",
    "spring.security.user.name=user\n",
    "spring.security.user.password=password\n",
    "\"\"\"\n",
    "\n",
    "# 파일로 저장\n",
    "with open(\"src/main/resources/application.properties\", \"w\") as file:\n",
    "    file.write(application_properties)\n",
    "\n",
    "print(\"application.properties 파일이 생성되었습니다.\")"
   ]
  },
  {
   "cell_type": "markdown",
   "id": "80383bd8",
   "metadata": {},
   "source": [
    "## 2. 필터 클래스 구현\n",
    "\n",
    "Spring Security의 주요 필터를 커스텀 필터로 구현합니다.  \n",
    "아래는 각 필터 클래스의 코드입니다."
   ]
  },
  {
   "cell_type": "code",
   "execution_count": 4,
   "id": "8b3a1a58",
   "metadata": {},
   "outputs": [
    {
     "ename": "FileNotFoundError",
     "evalue": "[Errno 2] No such file or directory: './src/main/java/com/example/filter/CustomSecurityContextPersistenceFilter.java'",
     "output_type": "error",
     "traceback": [
      "\u001b[1;31m---------------------------------------------------------------------------\u001b[0m",
      "\u001b[1;31mFileNotFoundError\u001b[0m                         Traceback (most recent call last)",
      "Input \u001b[1;32mIn [4]\u001b[0m, in \u001b[0;36m<cell line: 52>\u001b[1;34m()\u001b[0m\n\u001b[0;32m     51\u001b[0m \u001b[38;5;66;03m# 파일로 저장\u001b[39;00m\n\u001b[0;32m     52\u001b[0m \u001b[38;5;28;01mfor\u001b[39;00m filename, content \u001b[38;5;129;01min\u001b[39;00m filter_classes\u001b[38;5;241m.\u001b[39mitems():\n\u001b[1;32m---> 53\u001b[0m     \u001b[38;5;28;01mwith\u001b[39;00m \u001b[38;5;28;43mopen\u001b[39;49m\u001b[43m(\u001b[49m\u001b[38;5;124;43mf\u001b[39;49m\u001b[38;5;124;43m\"\u001b[39;49m\u001b[38;5;124;43m./src/main/java/com/example/filter/\u001b[39;49m\u001b[38;5;132;43;01m{\u001b[39;49;00m\u001b[43mfilename\u001b[49m\u001b[38;5;132;43;01m}\u001b[39;49;00m\u001b[38;5;124;43m\"\u001b[39;49m\u001b[43m,\u001b[49m\u001b[43m \u001b[49m\u001b[38;5;124;43m\"\u001b[39;49m\u001b[38;5;124;43mw\u001b[39;49m\u001b[38;5;124;43m\"\u001b[39;49m\u001b[43m)\u001b[49m \u001b[38;5;28;01mas\u001b[39;00m file:\n\u001b[0;32m     54\u001b[0m         file\u001b[38;5;241m.\u001b[39mwrite(content)\n\u001b[0;32m     56\u001b[0m \u001b[38;5;28mprint\u001b[39m(\u001b[38;5;124m\"\u001b[39m\u001b[38;5;124m필터 클래스 파일이 생성되었습니다.\u001b[39m\u001b[38;5;124m\"\u001b[39m)\n",
      "\u001b[1;31mFileNotFoundError\u001b[0m: [Errno 2] No such file or directory: './src/main/java/com/example/filter/CustomSecurityContextPersistenceFilter.java'"
     ]
    }
   ],
   "source": [
    "# 필터 클래스 코드를 파일로 저장\n",
    "filter_classes = {\n",
    "    \"CustomSecurityContextPersistenceFilter.java\": \"\"\"\n",
    "package com.example.filter;\n",
    "\n",
    "import org.springframework.security.core.context.SecurityContextHolder;\n",
    "import org.springframework.web.filter.GenericFilterBean;\n",
    "\n",
    "import javax.servlet.FilterChain;\n",
    "import javax.servlet.ServletException;\n",
    "import javax.servlet.ServletRequest;\n",
    "import javax.servlet.ServletResponse;\n",
    "import java.io.IOException;\n",
    "\n",
    "public class CustomSecurityContextPersistenceFilter extends GenericFilterBean {\n",
    "    @Override\n",
    "    public void doFilter(ServletRequest request, ServletResponse response, FilterChain chain)\n",
    "            throws IOException, ServletException {\n",
    "        System.out.println(\"CustomSecurityContextPersistenceFilter: SecurityContext를 로드하거나 저장합니다.\");\n",
    "        chain.doFilter(request, response);\n",
    "    }\n",
    "}\n",
    "\"\"\",\n",
    "    \"CustomLogoutFilter.java\": \"\"\"\n",
    "package com.example.filter;\n",
    "\n",
    "import org.springframework.web.filter.GenericFilterBean;\n",
    "\n",
    "import javax.servlet.FilterChain;\n",
    "import javax.servlet.ServletException;\n",
    "import javax.servlet.ServletRequest;\n",
    "import javax.servlet.ServletResponse;\n",
    "import javax.servlet.http.HttpServletRequest;\n",
    "import java.io.IOException;\n",
    "\n",
    "public class CustomLogoutFilter extends GenericFilterBean {\n",
    "    @Override\n",
    "    public void doFilter(ServletRequest request, ServletResponse response, FilterChain chain)\n",
    "            throws IOException, ServletException {\n",
    "        HttpServletRequest httpRequest = (HttpServletRequest) request;\n",
    "        if (httpRequest.getRequestURI().equals(\"/logout\")) {\n",
    "            System.out.println(\"CustomLogoutFilter: 로그아웃 요청을 처리합니다.\");\n",
    "        }\n",
    "        chain.doFilter(request, response);\n",
    "    }\n",
    "}\n",
    "\"\"\",\n",
    "    # 나머지 필터 클래스도 동일하게 추가\n",
    "}\n",
    "\n",
    "# 파일로 저장\n",
    "for filename, content in filter_classes.items():\n",
    "    with open(f\"src/main/java/com/example/filter/{filename}\", \"w\") as file:\n",
    "        file.write(content)\n",
    "\n",
    "print(\"필터 클래스 파일이 생성되었습니다.\")"
   ]
  },
  {
   "cell_type": "code",
   "execution_count": null,
   "id": "74fc8a7e",
   "metadata": {},
   "outputs": [],
   "source": [
    "# SecurityConfig 클래스 코드\n",
    "security_config = \"\"\"\n",
    "package com.example.config;\n",
    "\n",
    "import com.example.filter.*;\n",
    "import org.springframework.context.annotation.Bean;\n",
    "import org.springframework.context.annotation.Configuration;\n",
    "import org.springframework.security.config.annotation.web.builders.HttpSecurity;\n",
    "import org.springframework.security.config.annotation.web.configuration.EnableWebSecurity;\n",
    "import org.springframework.security.web.SecurityFilterChain;\n",
    "import org.springframework.security.web.access.intercept.FilterSecurityInterceptor;\n",
    "import org.springframework.security.web.authentication.AnonymousAuthenticationFilter;\n",
    "import org.springframework.security.web.authentication.UsernamePasswordAuthenticationFilter;\n",
    "import org.springframework.security.web.authentication.www.BasicAuthenticationFilter;\n",
    "import org.springframework.security.web.context.SecurityContextPersistenceFilter;\n",
    "import org.springframework.security.web.session.ConcurrentSessionFilter;\n",
    "\n",
    "@Configuration\n",
    "@EnableWebSecurity\n",
    "public class SecurityConfig {\n",
    "\n",
    "    @Bean\n",
    "    public SecurityFilterChain securityFilterChain(HttpSecurity http) throws Exception {\n",
    "        http\n",
    "            .addFilterBefore(new CustomSecurityContextPersistenceFilter(), SecurityContextPersistenceFilter.class)\n",
    "            .addFilterBefore(new CustomLogoutFilter(), ConcurrentSessionFilter.class)\n",
    "            .addFilterBefore(new CustomUsernamePasswordAuthenticationFilter(), UsernamePasswordAuthenticationFilter.class)\n",
    "            .addFilterBefore(new CustomBasicAuthenticationFilter(http.getSharedObject(AuthenticationManager.class)), BasicAuthenticationFilter.class)\n",
    "            .addFilterBefore(new CustomAnonymousAuthenticationFilter(\"key\"), AnonymousAuthenticationFilter.class)\n",
    "            .addFilterBefore(new CustomExceptionTranslationFilter(), FilterSecurityInterceptor.class)\n",
    "            .addFilterBefore(new CustomFilterSecurityInterceptor(), FilterSecurityInterceptor.class)\n",
    "            .authorizeHttpRequests(auth -> auth\n",
    "                .anyRequest().authenticated()\n",
    "            )\n",
    "            .formLogin(form -> form\n",
    "                .loginPage(\"/login\")\n",
    "                .permitAll()\n",
    "            )\n",
    "            .logout(logout -> logout\n",
    "                .logoutUrl(\"/logout\")\n",
    "                .permitAll()\n",
    "            );\n",
    "\n",
    "        return http.build();\n",
    "    }\n",
    "}\n",
    "\"\"\"\n",
    "\n",
    "# 파일로 저장\n",
    "with open(\"src/main/java/com/example/config/SecurityConfig.java\", \"w\") as file:\n",
    "    file.write(security_config)\n",
    "\n",
    "print(\"SecurityConfig 파일이 생성되었습니다.\")"
   ]
  },
  {
   "cell_type": "markdown",
   "id": "59f5b0d4",
   "metadata": {},
   "source": [
    "## 3. 프로젝트 실행 방법\n",
    "\n",
    "1. 터미널에서 프로젝트 루트 디렉토리로 이동합니다.\n",
    "2. 다음 명령어를 실행하여 프로젝트를 빌드하고 실행합니다:\n",
    "   ```bash\n",
    "   ./gradlew bootRun"
   ]
  },
  {
   "cell_type": "markdown",
   "id": "ad9dc7cd",
   "metadata": {},
   "source": [
    "---\n",
    "\n",
    "### 1.8 Code 셀: Notebook 파일로 저장\n",
    "\n",
    "```python\n",
    "# Jupyter Notebook 파일로 저장\n",
    "import nbformat as nbf\n",
    "\n",
    "# Notebook 생성\n",
    "nb = nbf.v4.new_notebook()\n",
    "\n",
    "# Markdown 및 Code 셀 추가\n",
    "nb[\"cells\"] = [\n",
    "    nbf.v4.new_markdown_cell(\"# Spring Boot 3.1.x - Spring Security 필터 공부 프로젝트\"),\n",
    "    nbf.v4.new_code_cell(build_gradle),\n",
    "    nbf.v4.new_code_cell(application_properties),\n",
    "    nbf.v4.new_markdown_cell(\"## 2. 필터 클래스 구현\"),\n",
    "    nbf.v4.new_code_cell(filter_classes[\"CustomSecurityContextPersistenceFilter.java\"]),\n",
    "    nbf.v4.new_code_cell(filter_classes[\"CustomLogoutFilter.java\"]),\n",
    "    nbf.v4.new_code_cell(security_config),\n",
    "    nbf.v4.new_markdown_cell(\"## 3. 프로젝트 실행 방법\"),\n",
    "]\n",
    "\n",
    "# 파일로 저장\n",
    "with open(\"spring_security_filters.ipynb\", \"w\") as f:\n",
    "    nbf.write(nb, f)\n",
    "\n",
    "print(\"spring_security_filters.ipynb 파일이 생성되었습니다.\")\n",
    "```"
   ]
  },
  {
   "cell_type": "code",
   "execution_count": 5,
   "id": "d8fa412b",
   "metadata": {},
   "outputs": [
    {
     "ename": "NameError",
     "evalue": "name 'application_properties' is not defined",
     "output_type": "error",
     "traceback": [
      "\u001b[1;31m---------------------------------------------------------------------------\u001b[0m",
      "\u001b[1;31mNameError\u001b[0m                                 Traceback (most recent call last)",
      "Input \u001b[1;32mIn [5]\u001b[0m, in \u001b[0;36m<cell line: 9>\u001b[1;34m()\u001b[0m\n\u001b[0;32m      5\u001b[0m nb \u001b[38;5;241m=\u001b[39m nbf\u001b[38;5;241m.\u001b[39mv4\u001b[38;5;241m.\u001b[39mnew_notebook()\n\u001b[0;32m      7\u001b[0m \u001b[38;5;66;03m# Markdown 및 Code 셀 추가\u001b[39;00m\n\u001b[0;32m      8\u001b[0m nb[\u001b[38;5;124m\"\u001b[39m\u001b[38;5;124mcells\u001b[39m\u001b[38;5;124m\"\u001b[39m] \u001b[38;5;241m=\u001b[39m [\n\u001b[0;32m      9\u001b[0m     nbf\u001b[38;5;241m.\u001b[39mv4\u001b[38;5;241m.\u001b[39mnew_markdown_cell(\u001b[38;5;124m\"\u001b[39m\u001b[38;5;124m# Spring Boot 3.1.x - Spring Security 필터 공부 프로젝트\u001b[39m\u001b[38;5;124m\"\u001b[39m),\n\u001b[0;32m     10\u001b[0m     nbf\u001b[38;5;241m.\u001b[39mv4\u001b[38;5;241m.\u001b[39mnew_code_cell(build_gradle),\n\u001b[1;32m---> 11\u001b[0m     nbf\u001b[38;5;241m.\u001b[39mv4\u001b[38;5;241m.\u001b[39mnew_code_cell(\u001b[43mapplication_properties\u001b[49m),\n\u001b[0;32m     12\u001b[0m     nbf\u001b[38;5;241m.\u001b[39mv4\u001b[38;5;241m.\u001b[39mnew_markdown_cell(\u001b[38;5;124m\"\u001b[39m\u001b[38;5;124m## 2. 필터 클래스 구현\u001b[39m\u001b[38;5;124m\"\u001b[39m),\n\u001b[0;32m     13\u001b[0m     nbf\u001b[38;5;241m.\u001b[39mv4\u001b[38;5;241m.\u001b[39mnew_code_cell(filter_classes[\u001b[38;5;124m\"\u001b[39m\u001b[38;5;124mCustomSecurityContextPersistenceFilter.java\u001b[39m\u001b[38;5;124m\"\u001b[39m]),\n\u001b[0;32m     14\u001b[0m     nbf\u001b[38;5;241m.\u001b[39mv4\u001b[38;5;241m.\u001b[39mnew_code_cell(filter_classes[\u001b[38;5;124m\"\u001b[39m\u001b[38;5;124mCustomLogoutFilter.java\u001b[39m\u001b[38;5;124m\"\u001b[39m]),\n\u001b[0;32m     15\u001b[0m     nbf\u001b[38;5;241m.\u001b[39mv4\u001b[38;5;241m.\u001b[39mnew_code_cell(security_config),\n\u001b[0;32m     16\u001b[0m     nbf\u001b[38;5;241m.\u001b[39mv4\u001b[38;5;241m.\u001b[39mnew_markdown_cell(\u001b[38;5;124m\"\u001b[39m\u001b[38;5;124m## 3. 프로젝트 실행 방법\u001b[39m\u001b[38;5;124m\"\u001b[39m),\n\u001b[0;32m     17\u001b[0m ]\n\u001b[0;32m     19\u001b[0m \u001b[38;5;66;03m# 파일로 저장\u001b[39;00m\n\u001b[0;32m     20\u001b[0m \u001b[38;5;28;01mwith\u001b[39;00m \u001b[38;5;28mopen\u001b[39m(\u001b[38;5;124m\"\u001b[39m\u001b[38;5;124mspring_security_filters.ipynb\u001b[39m\u001b[38;5;124m\"\u001b[39m, \u001b[38;5;124m\"\u001b[39m\u001b[38;5;124mw\u001b[39m\u001b[38;5;124m\"\u001b[39m) \u001b[38;5;28;01mas\u001b[39;00m f:\n",
      "\u001b[1;31mNameError\u001b[0m: name 'application_properties' is not defined"
     ]
    }
   ],
   "source": [
    "# Jupyter Notebook 파일로 저장\n",
    "import nbformat as nbf\n",
    "\n",
    "# Notebook 생성\n",
    "nb = nbf.v4.new_notebook()\n",
    "\n",
    "# Markdown 및 Code 셀 추가\n",
    "nb[\"cells\"] = [\n",
    "    nbf.v4.new_markdown_cell(\"# Spring Boot 3.1.x - Spring Security 필터 공부 프로젝트\"),\n",
    "    nbf.v4.new_code_cell(build_gradle),\n",
    "    nbf.v4.new_code_cell(application_properties),\n",
    "    nbf.v4.new_markdown_cell(\"## 2. 필터 클래스 구현\"),\n",
    "    nbf.v4.new_code_cell(filter_classes[\"CustomSecurityContextPersistenceFilter.java\"]),\n",
    "    nbf.v4.new_code_cell(filter_classes[\"CustomLogoutFilter.java\"]),\n",
    "    nbf.v4.new_code_cell(security_config),\n",
    "    nbf.v4.new_markdown_cell(\"## 3. 프로젝트 실행 방법\"),\n",
    "]\n",
    "\n",
    "# 파일로 저장\n",
    "with open(\"spring_security_filters.ipynb\", \"w\") as f:\n",
    "    nbf.write(nb, f)\n",
    "\n",
    "print(\"spring_security_filters.ipynb 파일이 생성되었습니다.\")"
   ]
  }
 ],
 "metadata": {
  "kernelspec": {
   "display_name": "Python 3 (ipykernel)",
   "language": "python",
   "name": "python3"
  },
  "language_info": {
   "codemirror_mode": {
    "name": "ipython",
    "version": 3
   },
   "file_extension": ".py",
   "mimetype": "text/x-python",
   "name": "python",
   "nbconvert_exporter": "python",
   "pygments_lexer": "ipython3",
   "version": "3.9.12"
  }
 },
 "nbformat": 4,
 "nbformat_minor": 5
}
